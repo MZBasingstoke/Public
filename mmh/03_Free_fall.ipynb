{
 "cells": [
  {
   "cell_type": "markdown",
   "id": "f7cdcf2d",
   "metadata": {},
   "source": [
    "## Free fall"
   ]
  },
  {
   "cell_type": "code",
   "execution_count": null,
   "id": "40ece23b",
   "metadata": {},
   "outputs": [],
   "source": [
    "import matplotlib.pyplot as plt"
   ]
  },
  {
   "cell_type": "markdown",
   "id": "409bd943",
   "metadata": {},
   "source": [
    "First we need to declare the constant values we will need"
   ]
  },
  {
   "cell_type": "markdown",
   "id": "7b2f6d05",
   "metadata": {},
   "source": [
    "#### Constants"
   ]
  },
  {
   "cell_type": "code",
   "execution_count": null,
   "id": "605e77d4",
   "metadata": {},
   "outputs": [],
   "source": [
    "g = -9.81"
   ]
  },
  {
   "cell_type": "markdown",
   "id": "5b923f67",
   "metadata": {},
   "source": [
    "And now the initial conditions, where we can specify the height from which we are dropping the object, the initial vertical speed (0 if the object is simply dropped), and the time at which this happens"
   ]
  },
  {
   "cell_type": "markdown",
   "id": "301fac4f",
   "metadata": {},
   "source": [
    "#### Initial conditions"
   ]
  },
  {
   "cell_type": "code",
   "execution_count": null,
   "id": "f1a0b889",
   "metadata": {},
   "outputs": [],
   "source": [
    "height_0 = 20\n",
    "v_y_0 = 0\n",
    "time_0 = 0"
   ]
  },
  {
   "cell_type": "markdown",
   "id": "e2d2c0f9",
   "metadata": {},
   "source": [
    "We initialize the lists in which we are going to record the simulation data"
   ]
  },
  {
   "cell_type": "markdown",
   "id": "82a68aaf",
   "metadata": {},
   "source": [
    "#### Logs initialization "
   ]
  },
  {
   "cell_type": "code",
   "execution_count": null,
   "id": "f51fa8e0",
   "metadata": {},
   "outputs": [],
   "source": [
    "time_log = [time_0]\n",
    "height_log = [height_0]\n",
    "v_y_log = [v_y_0]"
   ]
  },
  {
   "cell_type": "markdown",
   "id": "c7afb3c0",
   "metadata": {},
   "source": [
    "We also need some parameters for running the simulation"
   ]
  },
  {
   "cell_type": "markdown",
   "id": "a4fdf7ae",
   "metadata": {},
   "source": [
    "#### Simulation parameters"
   ]
  },
  {
   "cell_type": "code",
   "execution_count": null,
   "id": "b883f4e0",
   "metadata": {},
   "outputs": [],
   "source": [
    "timestep = 0.001"
   ]
  },
  {
   "cell_type": "markdown",
   "id": "db4926a1",
   "metadata": {},
   "source": [
    "And finally we can simulate the fall"
   ]
  },
  {
   "cell_type": "markdown",
   "id": "d43afe30",
   "metadata": {},
   "source": [
    "#### Simulation"
   ]
  },
  {
   "cell_type": "code",
   "execution_count": null,
   "id": "d37c6637",
   "metadata": {},
   "outputs": [],
   "source": [
    "height = height_0\n",
    "v_y = v_y_0\n",
    "time = time_0\n",
    "while height > 0:\n",
    "    height = height + v_y * timestep\n",
    "    v_y = v_y + g * timestep\n",
    "    time = time + timestep\n",
    "    time_log.append(time)\n",
    "    height_log.append(height)\n",
    "    v_y_log.append(v_y)"
   ]
  },
  {
   "cell_type": "code",
   "execution_count": null,
   "id": "5c644ea4",
   "metadata": {
    "scrolled": true
   },
   "outputs": [],
   "source": [
    "fig, ax = plt.subplots(nrows=1, ncols=2, figsize=(15,5))\n",
    "ax[0].plot(time_log, height_log)\n",
    "ax[0].set_title('Height vs Time')\n",
    "ax[0].set_xlabel('Time [s]')\n",
    "ax[0].set_ylabel('Height [m]')\n",
    "ax[0].grid(linestyle='--')\n",
    "ax[1].plot(time_log, v_y_log)\n",
    "ax[1].set_title('Velocity vs Time')\n",
    "ax[1].set_xlabel('Time [s]')\n",
    "ax[1].set_ylabel('Velocity [m/s]')\n",
    "ax[1].grid(linestyle='--')\n",
    "plt.show()"
   ]
  }
 ],
 "metadata": {
  "kernelspec": {
   "display_name": "Python 3 (ipykernel)",
   "language": "python",
   "name": "python3"
  },
  "language_info": {
   "codemirror_mode": {
    "name": "ipython",
    "version": 3
   },
   "file_extension": ".py",
   "mimetype": "text/x-python",
   "name": "python",
   "nbconvert_exporter": "python",
   "pygments_lexer": "ipython3",
   "version": "3.11.5"
  }
 },
 "nbformat": 4,
 "nbformat_minor": 5
}

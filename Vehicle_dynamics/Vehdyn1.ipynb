{
 "cells": [
  {
   "cell_type": "markdown",
   "id": "2bebe895",
   "metadata": {},
   "source": [
    "## Vehicle acceleration run - part 1: Ideal torque source"
   ]
  },
  {
   "cell_type": "code",
   "execution_count": null,
   "id": "fd7771ad",
   "metadata": {},
   "outputs": [],
   "source": [
    "import numpy as np\n",
    "import matplotlib.pyplot as plt"
   ]
  },
  {
   "cell_type": "markdown",
   "id": "864cd28a",
   "metadata": {},
   "source": [
    "### Ideal torque source and no drag of any kind\n",
    "This first example considers a car with an ideal constant source of torque, no internal friction, no frction with the road, and no aerodynamic drag. This is a very ideal case"
   ]
  },
  {
   "cell_type": "markdown",
   "id": "41bcbea1",
   "metadata": {},
   "source": [
    "Function torque_tyre calculates the torque at the drive wheels simply by multiplying hte motor torque by the gear ratio"
   ]
  },
  {
   "cell_type": "code",
   "execution_count": null,
   "id": "9e90e300",
   "metadata": {},
   "outputs": [],
   "source": [
    "def torque_tyre(Engine_torque, Gear_ratio):\n",
    "    Tyre_torque = Engine_torque * Gear_ratio\n",
    "    return Tyre_torque"
   ]
  },
  {
   "cell_type": "markdown",
   "id": "d0c09bab",
   "metadata": {},
   "source": [
    "Function force_tyre calculates the traction force considering the torque at the wheels and the tyre radius"
   ]
  },
  {
   "cell_type": "code",
   "execution_count": null,
   "id": "48b01f7e",
   "metadata": {},
   "outputs": [],
   "source": [
    "def force_tyre(Tyre_torque, Tyre_radius):\n",
    "    Tyre_force = Tyre_torque / Tyre_radius\n",
    "    return Tyre_force"
   ]
  },
  {
   "cell_type": "markdown",
   "id": "c1b3f871",
   "metadata": {},
   "source": [
    "Function acceleration_car_simple calculates the acceleration of the car considering only the tractive force"
   ]
  },
  {
   "cell_type": "code",
   "execution_count": null,
   "id": "5fc673b7",
   "metadata": {},
   "outputs": [],
   "source": [
    "def acceleration_car_simple(Tyre_force, Vehicle_mass):\n",
    "    Vehicle_acceleration = Tyre_force / Vehicle_mass\n",
    "    return Vehicle_acceleration"
   ]
  },
  {
   "cell_type": "markdown",
   "id": "c5d161fc",
   "metadata": {},
   "source": [
    "The parameters we need are the vehicle mass $Vehicle\\_mass$ in kg, the torque source $Torque$ in Nm, the gear ratio $Gear\\_diff$, and the tyre radius $Tyre\\_radius$ in m."
   ]
  },
  {
   "cell_type": "code",
   "execution_count": null,
   "id": "fb7e9fee",
   "metadata": {},
   "outputs": [],
   "source": [
    "Vehicle_mass = 1000\n",
    "Torque = 240\n",
    "Gear_diff = 3.5\n",
    "Tyre_radius = 0.32"
   ]
  },
  {
   "cell_type": "markdown",
   "id": "85403cd9",
   "metadata": {},
   "source": [
    "Now we enter the initial conditions: velocity $V\\_0$, position $S\\_0$ and time $T\\_0$\n",
    "The target is to calculate the time it takes for the vehicle to reach a final speed from stopped. that final speed is entered as a parameter in km/h, so it needs to be converted to m/s for the model to work properly. Once the calculations are done, the speed time series are logged in km/h"
   ]
  },
  {
   "cell_type": "code",
   "execution_count": null,
   "id": "709382d1",
   "metadata": {},
   "outputs": [],
   "source": [
    "V_0 = 0\n",
    "S_0 = 0\n",
    "T_0 = 0\n",
    "Stop_condition = False\n",
    "Throttle = 1\n",
    "Tyre_circ = Tyre_radius * 2 * np.pi\n",
    "Timestep = 0.001\n",
    "Time = T_0\n",
    "Vehicle_velocity = V_0 / 3.6\n",
    "Vehicle_position = S_0\n",
    "Final_speed = 100\n",
    "Final_speedms = Final_speed / 3.6\n",
    "Time_log = [T_0]\n",
    "Speed_log = [V_0]\n",
    "Acc_log = [0]\n",
    "Position_log = [S_0]\n",
    "while Stop_condition == False:\n",
    "    Tyre_Nm = Torque * Gear_diff\n",
    "    Tyre_force = Tyre_Nm / Tyre_radius\n",
    "    Vehicle_acceleration = acceleration_car_simple(Tyre_force, Vehicle_mass)\n",
    "    Vehicle_position = Vehicle_position + Vehicle_velocity * Timestep\n",
    "    Vehicle_velocity = Vehicle_velocity + Vehicle_acceleration * Timestep\n",
    "    Time = Time + Timestep\n",
    "    \n",
    "    Time_log.append(Time)\n",
    "    Position_log.append(Vehicle_position)\n",
    "    Speed_log.append(Vehicle_velocity*3.6)\n",
    "    Acc_log.append(Vehicle_acceleration)\n",
    "    \n",
    "    \n",
    "    if (Vehicle_velocity >= Final_speedms) or (Vehicle_acceleration < 0.01):\n",
    "        Stop_condition = True"
   ]
  },
  {
   "cell_type": "code",
   "execution_count": null,
   "id": "b7dd3a40",
   "metadata": {},
   "outputs": [],
   "source": [
    "plt.plot(Time_log, Speed_log)\n",
    "plt.grid(linestyle='--')\n",
    "plt.xlabel('Time (s)')\n",
    "plt.ylabel('Speed (km/h)')\n",
    "plt.title('Acceleration 0-'+ str(Final_speed) + ' km/h')\n",
    "plt.show()"
   ]
  },
  {
   "cell_type": "markdown",
   "id": "b1d5c166",
   "metadata": {},
   "source": [
    "### Ideal torque source with rolling resistance and aerodynamic drag\n",
    "This second case still considers an ideal constant torque source but includes rolling resistance, -the friction between the tyres and the road-, and aerodynamic drag "
   ]
  },
  {
   "cell_type": "markdown",
   "id": "2a9e95eb",
   "metadata": {},
   "source": [
    "For this case we need to define some new functions. The first one is the new acceleration of the car, which now takes into account the rolling resistance and the aero drag. The total drive force is the result of the tractive force minus the rolling and aero resistances"
   ]
  },
  {
   "cell_type": "code",
   "execution_count": null,
   "id": "0208c1c8",
   "metadata": {},
   "outputs": [],
   "source": [
    "def acceleration_car(Tyre_force, Rolling_resistance, Aero_drag, Vehicle_mass):\n",
    "    Vehicle_acceleration = (Tyre_force - Rolling_resistance - Aero_drag) / Vehicle_mass\n",
    "    return Vehicle_acceleration"
   ]
  },
  {
   "cell_type": "markdown",
   "id": "f1bacf8b",
   "metadata": {},
   "source": [
    "The aerodynamic drag is calculated with an equation that includes the aerodynamic coefficient, front surface, air density, and the square of the linear speed"
   ]
  },
  {
   "cell_type": "code",
   "execution_count": null,
   "id": "854762f4",
   "metadata": {},
   "outputs": [],
   "source": [
    "def air_drag(Air_coeff, Front_surface, Air_density, Vehicle_velocity):\n",
    "    Drag = 0.5 * Air_coeff * Front_surface * Air_density * Vehicle_velocity**2\n",
    "    return(Drag)"
   ]
  },
  {
   "cell_type": "markdown",
   "id": "af10ce4d",
   "metadata": {},
   "source": [
    "The rolling resistance is considered as independent of the speed, and just as the normal reaction from the road multiplied by a coefficient"
   ]
  },
  {
   "cell_type": "code",
   "execution_count": null,
   "id": "9fffdf64",
   "metadata": {},
   "outputs": [],
   "source": [
    "def roll_drag(Vehicle_mass, Roll_coeff):\n",
    "    Roll_drag = Vehicle_mass * Roll_coeff * 9.81\n",
    "    return Roll_drag"
   ]
  },
  {
   "cell_type": "markdown",
   "id": "a698fba9",
   "metadata": {},
   "source": [
    "Some new parameters are required: roling resistance coefficient, aerodynamic coefficient, front surface and air density"
   ]
  },
  {
   "cell_type": "code",
   "execution_count": null,
   "id": "b431f91d",
   "metadata": {},
   "outputs": [],
   "source": [
    "Vehicle_mass = 1000\n",
    "Roll_coeff = 0.02\n",
    "Air_coeff = 0.7\n",
    "Front_surface = 2\n",
    "Air_density = 1.202\n",
    "Gear_diff = 3.5\n",
    "Tyre_radius = 0.32\n",
    "Tyre_circ = Tyre_radius * 2 * np.pi\n",
    "Timestep = 0.001"
   ]
  },
  {
   "cell_type": "markdown",
   "id": "e858e268",
   "metadata": {},
   "source": [
    "using a similar loop as before but adding the new resistances, we now calculate the tiem to accelerate to a higher speed, to see clearly the effect of the aero drag"
   ]
  },
  {
   "cell_type": "code",
   "execution_count": null,
   "id": "9be39154",
   "metadata": {},
   "outputs": [],
   "source": [
    "V_0 = 0\n",
    "S_0 = 0\n",
    "T_0 = 0\n",
    "Stop_condition = False\n",
    "Throttle = 1\n",
    "Tyre_circ = Tyre_radius * 2 * np.pi\n",
    "Timestep = 0.001\n",
    "Time = T_0\n",
    "Vehicle_velocity = V_0 / 3.6\n",
    "Vehicle_position = S_0\n",
    "Final_speed = 180\n",
    "Final_speedms = Final_speed / 3.6\n",
    "Time_log = [T_0]\n",
    "Speed_log = [V_0]\n",
    "Acc_log = [0]\n",
    "Position_log = [S_0]\n",
    "while Stop_condition == False:\n",
    "    Tyre_Nm = Torque * Gear_diff\n",
    "    Tyre_force = Tyre_Nm / Tyre_radius\n",
    "    Roll_drag = roll_drag(Vehicle_mass, Roll_coeff)\n",
    "    Air_drag = air_drag(Air_coeff, Front_surface, Air_density, Vehicle_velocity)\n",
    "    Vehicle_acceleration = acceleration_car(Tyre_force, Roll_drag, Air_drag, Vehicle_mass)\n",
    "    Vehicle_position = Vehicle_position + Vehicle_velocity * Timestep\n",
    "    Vehicle_velocity = Vehicle_velocity + Vehicle_acceleration * Timestep\n",
    "    Time = Time + Timestep\n",
    "    \n",
    "    Time_log.append(Time)\n",
    "    Position_log.append(Vehicle_position)\n",
    "    Speed_log.append(Vehicle_velocity*3.6)\n",
    "    Acc_log.append(Vehicle_acceleration)\n",
    "    \n",
    "    \n",
    "    if (Vehicle_velocity >= Final_speedms) or (Vehicle_acceleration < 0.01):\n",
    "        Stop_condition = True"
   ]
  },
  {
   "cell_type": "code",
   "execution_count": null,
   "id": "13765251",
   "metadata": {
    "scrolled": true
   },
   "outputs": [],
   "source": [
    "Slope_0 = (Speed_log[10] - Speed_log[0]) / (Time_log[10] - Time_log[0])\n",
    "Aux = Time_log[-1] * Slope_0\n",
    "plt.plot([0,Time_log[-1]], [0, Aux], linestyle = '-.', color='red', linewidth=0.5)\n",
    "plt.plot(Time_log, Speed_log)\n",
    "plt.grid(linestyle='--')\n",
    "plt.xlabel('Time (s)')\n",
    "plt.ylabel('Speed (km/h)')\n",
    "plt.title('Acceleration 0-'+ str(Final_speed) + ' km/h')\n",
    "plt.legend(['Without aero drag', 'With aero drag'])\n",
    "plt.show()"
   ]
  }
 ],
 "metadata": {
  "kernelspec": {
   "display_name": "Python 3 (ipykernel)",
   "language": "python",
   "name": "python3"
  },
  "language_info": {
   "codemirror_mode": {
    "name": "ipython",
    "version": 3
   },
   "file_extension": ".py",
   "mimetype": "text/x-python",
   "name": "python",
   "nbconvert_exporter": "python",
   "pygments_lexer": "ipython3",
   "version": "3.9.7"
  }
 },
 "nbformat": 4,
 "nbformat_minor": 5
}

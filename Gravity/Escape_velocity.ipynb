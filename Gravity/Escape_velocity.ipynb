{
 "cells": [
  {
   "cell_type": "markdown",
   "id": "c51b5a20",
   "metadata": {},
   "source": [
    "## Calculating the escape velocity from the Earth"
   ]
  },
  {
   "cell_type": "markdown",
   "id": "a3b88f1f",
   "metadata": {},
   "source": [
    "We define the mass of the earth in $kg$ and the gravitational constant in $m^{3}s^{-2}kg$"
   ]
  },
  {
   "cell_type": "code",
   "execution_count": null,
   "id": "b4c2e0fc",
   "metadata": {},
   "outputs": [],
   "source": [
    "Earth_mass = 5.972e24\n",
    "G = 6.67e-11"
   ]
  },
  {
   "cell_type": "markdown",
   "id": "933fd495",
   "metadata": {},
   "source": [
    "The function gravity calculates the acceleration due to gravity considering the mass of the Earth and the distance at which the object is from its centre"
   ]
  },
  {
   "cell_type": "code",
   "execution_count": null,
   "id": "706fb6b8",
   "metadata": {},
   "outputs": [],
   "source": [
    "def gravity(h):\n",
    "    g = (Earth_mass * G) / h**2\n",
    "    return g"
   ]
  },
  {
   "cell_type": "markdown",
   "id": "f9d5c186",
   "metadata": {},
   "source": [
    "The function limit_velocity performs a simulation of an object under free fall that starts with a specified upward velocity $v$, and is at a specified distance from the centre of the earth $h$, e.g. at the surface. The function takes an argument $Limit$ which is the distance at which it could be safe to think that the gravity of the Earth is no longer relevant, and a value $Timestep$ for the initial timestep.\n",
    "The function returns $Fall$ if the the object ends up returning to the Earth and $Escape$ if it reaches the $Limit$ and it is therefore believed to have escaped. "
   ]
  },
  {
   "cell_type": "code",
   "execution_count": null,
   "id": "9555fa95",
   "metadata": {},
   "outputs": [],
   "source": [
    "def limit_velocity(v, h, Limit, Timestep):\n",
    "    Stop_condition = False\n",
    "    g = gravity(h)\n",
    "    while Stop_condition == False:\n",
    "        h = h + v * Timestep\n",
    "        v = v - g * Timestep\n",
    "        g_new = gravity(h)\n",
    "        if (g / g_new) < 1.00001:\n",
    "            Timestep = 1.1 * Timestep\n",
    "        g = g_new\n",
    "        if (v <= 0) or (h >= Limit):\n",
    "            Stop_condition = True\n",
    "            if v <= 0:\n",
    "                Status = 'Fall'\n",
    "            elif h >= Limit:\n",
    "                Status = 'Escape'\n",
    "    return [Status, h]"
   ]
  },
  {
   "cell_type": "markdown",
   "id": "b3857341",
   "metadata": {},
   "source": [
    "The following loop iterates through different initial volocities setting lower and upper bounds for the escape velocity, i.e. the limit between the velocities that result in the object falling to the ground and those that make the object escape. The loop stops when the range between those bounds is lesser than 1 m/s. The loop first finds two bounds and then choses the initial velocity for each iteration as a value between the current lower and upper bounds"
   ]
  },
  {
   "cell_type": "code",
   "execution_count": null,
   "id": "deaa71b7",
   "metadata": {},
   "outputs": [],
   "source": [
    "h = 6.371e6\n",
    "Test_velocity = 10\n",
    "Lower_bound = 0\n",
    "Upper_bound = None\n",
    "Timestep_0 = 0.1\n",
    "Escape_limit = 1e12\n",
    "\n",
    "Solved = False\n",
    "while Solved == False:\n",
    "    Result = limit_velocity(Test_velocity, h, Escape_limit, Timestep_0)\n",
    "    if Result[0] == 'Fall':\n",
    "        Lower_bound = Test_velocity\n",
    "    elif Result[0] == 'Escape':\n",
    "        Upper_bound = Test_velocity\n",
    "    if Upper_bound != None:\n",
    "        Test_velocity = Lower_bound + 0.3 * (Upper_bound - Lower_bound)\n",
    "        if (Upper_bound - Lower_bound) < 1:\n",
    "            Solved = True\n",
    "    else:\n",
    "        Test_velocity = 2 * Test_velocity\n",
    "\n",
    "Estimated_velocity = Test_velocity        \n",
    "        \n",
    "print('The escape velocity found is ', Estimated_velocity)   "
   ]
  },
  {
   "cell_type": "markdown",
   "id": "88be35b3",
   "metadata": {},
   "source": [
    "To check the results, we  can calculate the escape velocity with the known equation"
   ]
  },
  {
   "cell_type": "code",
   "execution_count": null,
   "id": "3e3525fa",
   "metadata": {
    "scrolled": true
   },
   "outputs": [],
   "source": [
    "Exact_velocity = (2*(G * Earth_mass)/h)**0.5\n",
    "Error = abs(Exact_velocity - Estimated_velocity) / Exact_velocity\n",
    "print('The estimated velocity is', round(Estimated_velocity, 3), 'and the exact velocity is', round(Exact_velocity, 3),\n",
    "      'This represents an error of', round(Error * 100, 4), '%')"
   ]
  }
 ],
 "metadata": {
  "kernelspec": {
   "display_name": "Python 3 (ipykernel)",
   "language": "python",
   "name": "python3"
  },
  "language_info": {
   "codemirror_mode": {
    "name": "ipython",
    "version": 3
   },
   "file_extension": ".py",
   "mimetype": "text/x-python",
   "name": "python",
   "nbconvert_exporter": "python",
   "pygments_lexer": "ipython3",
   "version": "3.9.7"
  }
 },
 "nbformat": 4,
 "nbformat_minor": 5
}

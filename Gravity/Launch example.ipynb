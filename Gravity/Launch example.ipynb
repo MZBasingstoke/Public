{
 "cells": [
  {
   "cell_type": "markdown",
   "id": "6d1dc5b4",
   "metadata": {},
   "source": [
    "## Launch example"
   ]
  },
  {
   "cell_type": "code",
   "execution_count": 1,
   "id": "ac8fe219",
   "metadata": {},
   "outputs": [
    {
     "name": "stdout",
     "output_type": "stream",
     "text": [
      "Height =  129.8784556966275 Elapsed time =  5.099999999999998\n"
     ]
    }
   ],
   "source": [
    "# Main data and initial conditions\n",
    "Earth_mass = 5.972e24\n",
    "G = 6.67e-11\n",
    "v_0 = 50\n",
    "h_0 = 6.371e6\n",
    "t_0 = 0\n",
    "TimeStep = 0.1\n",
    "\n",
    "# Function that calculates the gravity depending on the height\n",
    "def gravity(h):\n",
    "    g = (Earth_mass * G) / h**2\n",
    "    return g\n",
    "\n",
    "# Condition to stop the simulation\n",
    "Stop = False\n",
    "\n",
    "# Initial values for the variables in the simulation\n",
    "v = v_0\n",
    "h = h_0\n",
    "t = t_0\n",
    "g = gravity(h)\n",
    "\n",
    "# Simulation itself\n",
    "while Stop == False:\n",
    "    h_next = h + v * TimeStep\n",
    "    v_next = v - g * TimeStep\n",
    "    g_next = gravity(h_next)\n",
    "    t_next = t + TimeStep\n",
    "    \n",
    "    h = h_next\n",
    "    v = v_next\n",
    "    g = g_next\n",
    "    t = t_next\n",
    "    \n",
    "    if v <= 0:\n",
    "        Stop = True\n",
    "\n",
    "# Displaying the results        \n",
    "print('Height = ', h - h_0, 'Elapsed time = ', t)"
   ]
  }
 ],
 "metadata": {
  "kernelspec": {
   "display_name": "Python 3 (ipykernel)",
   "language": "python",
   "name": "python3"
  },
  "language_info": {
   "codemirror_mode": {
    "name": "ipython",
    "version": 3
   },
   "file_extension": ".py",
   "mimetype": "text/x-python",
   "name": "python",
   "nbconvert_exporter": "python",
   "pygments_lexer": "ipython3",
   "version": "3.9.7"
  }
 },
 "nbformat": 4,
 "nbformat_minor": 5
}
